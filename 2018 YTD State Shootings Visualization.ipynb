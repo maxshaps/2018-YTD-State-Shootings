{
 "cells": [
  {
   "cell_type": "code",
   "execution_count": 1,
   "metadata": {},
   "outputs": [
    {
     "data": {
      "text/html": [
       "<script>requirejs.config({paths: { 'plotly': ['https://cdn.plot.ly/plotly-latest.min']},});if(!window.Plotly) {{require(['plotly'],function(plotly) {window.Plotly=plotly;});}}</script>"
      ],
      "text/vnd.plotly.v1+html": [
       "<script>requirejs.config({paths: { 'plotly': ['https://cdn.plot.ly/plotly-latest.min']},});if(!window.Plotly) {{require(['plotly'],function(plotly) {window.Plotly=plotly;});}}</script>"
      ]
     },
     "metadata": {},
     "output_type": "display_data"
    }
   ],
   "source": [
    "# Importing Packages\n",
    "\n",
    "from plotly.offline import download_plotlyjs, init_notebook_mode, plot, iplot\n",
    "\n",
    "init_notebook_mode(connected=True)\n",
    "\n",
    "import plotly.plotly as py\n",
    "import plotly.graph_objs as go\n",
    "import plotly.offline as offline\n",
    "import pandas as pd"
   ]
  },
  {
   "cell_type": "code",
   "execution_count": 2,
   "metadata": {},
   "outputs": [
    {
     "data": {
      "text/html": [
       "<div>\n",
       "<style scoped>\n",
       "    .dataframe tbody tr th:only-of-type {\n",
       "        vertical-align: middle;\n",
       "    }\n",
       "\n",
       "    .dataframe tbody tr th {\n",
       "        vertical-align: top;\n",
       "    }\n",
       "\n",
       "    .dataframe thead th {\n",
       "        text-align: right;\n",
       "    }\n",
       "</style>\n",
       "<table border=\"1\" class=\"dataframe\">\n",
       "  <thead>\n",
       "    <tr style=\"text-align: right;\">\n",
       "      <th></th>\n",
       "      <th>State</th>\n",
       "      <th>Counts</th>\n",
       "    </tr>\n",
       "  </thead>\n",
       "  <tbody>\n",
       "    <tr>\n",
       "      <th>0</th>\n",
       "      <td>Alabama</td>\n",
       "      <td>7</td>\n",
       "    </tr>\n",
       "    <tr>\n",
       "      <th>1</th>\n",
       "      <td>Alaska</td>\n",
       "      <td>0</td>\n",
       "    </tr>\n",
       "    <tr>\n",
       "      <th>2</th>\n",
       "      <td>Arizona</td>\n",
       "      <td>0</td>\n",
       "    </tr>\n",
       "    <tr>\n",
       "      <th>3</th>\n",
       "      <td>Arkansas</td>\n",
       "      <td>2</td>\n",
       "    </tr>\n",
       "    <tr>\n",
       "      <th>4</th>\n",
       "      <td>California</td>\n",
       "      <td>11</td>\n",
       "    </tr>\n",
       "  </tbody>\n",
       "</table>\n",
       "</div>"
      ],
      "text/plain": [
       "        State Counts\n",
       "0     Alabama      7\n",
       "1      Alaska      0\n",
       "2     Arizona      0\n",
       "3    Arkansas      2\n",
       "4  California     11"
      ]
     },
     "execution_count": 2,
     "metadata": {},
     "output_type": "execute_result"
    }
   ],
   "source": [
    "# Importing data and formatting data frame\n",
    "\n",
    "df = pd.read_csv('2018 YTD State Shootings.csv') # From http://www.gunviolencearchive.org/reports/mass-shooting\n",
    "\n",
    "state_shootings_2018_ytd = pd.DataFrame(df.groupby('State').size().reset_index(name='Counts'))\n",
    "\n",
    "for col in state_shootings_2018_ytd.columns:\n",
    "    state_shootings_2018_ytd[col] = state_shootings_2018_ytd[col].astype(str)\n",
    "\n",
    "no_shooting_states = pd.DataFrame([['Alaska','0'],['Arizona','0'],['Delaware','0'],['Hawaii','0'],['Idaho','0'],['Iowa','0'],['Maine','0'],['Montana','0'],['Nevada','0'],['New Hampshire','0'],['New Mexico','0'],['North Dakota','0'],['Oregon','0'],['Rhode Island','0'],['South Dakota','0'],['Vermont','0'],['West Virginia','0'],['Wisconsin','0'],['Wyoming','0']], columns=list('AB'))\n",
    "no_shooting_states.columns = ['State','Counts']\n",
    "\n",
    "state_shootings_2018_ytd = pd.concat([state_shootings_2018_ytd, no_shooting_states], join='inner', ignore_index=True)\n",
    "state_shootings_2018_ytd = state_shootings_2018_ytd.sort_values('State', ascending='False').reset_index(drop=True)\n",
    "\n",
    "state_shootings_2018_ytd.head()"
   ]
  },
  {
   "cell_type": "code",
   "execution_count": 3,
   "metadata": {},
   "outputs": [
    {
     "data": {
      "text/html": [
       "<div>\n",
       "<style scoped>\n",
       "    .dataframe tbody tr th:only-of-type {\n",
       "        vertical-align: middle;\n",
       "    }\n",
       "\n",
       "    .dataframe tbody tr th {\n",
       "        vertical-align: top;\n",
       "    }\n",
       "\n",
       "    .dataframe thead th {\n",
       "        text-align: right;\n",
       "    }\n",
       "</style>\n",
       "<table border=\"1\" class=\"dataframe\">\n",
       "  <thead>\n",
       "    <tr style=\"text-align: right;\">\n",
       "      <th></th>\n",
       "      <th>State</th>\n",
       "      <th>Counts</th>\n",
       "      <th>Code</th>\n",
       "    </tr>\n",
       "  </thead>\n",
       "  <tbody>\n",
       "    <tr>\n",
       "      <th>0</th>\n",
       "      <td>Alabama</td>\n",
       "      <td>7</td>\n",
       "      <td>AL</td>\n",
       "    </tr>\n",
       "    <tr>\n",
       "      <th>1</th>\n",
       "      <td>Alaska</td>\n",
       "      <td>0</td>\n",
       "      <td>AK</td>\n",
       "    </tr>\n",
       "    <tr>\n",
       "      <th>2</th>\n",
       "      <td>Arizona</td>\n",
       "      <td>0</td>\n",
       "      <td>AZ</td>\n",
       "    </tr>\n",
       "    <tr>\n",
       "      <th>3</th>\n",
       "      <td>Arkansas</td>\n",
       "      <td>2</td>\n",
       "      <td>AR</td>\n",
       "    </tr>\n",
       "    <tr>\n",
       "      <th>4</th>\n",
       "      <td>California</td>\n",
       "      <td>11</td>\n",
       "      <td>CA</td>\n",
       "    </tr>\n",
       "  </tbody>\n",
       "</table>\n",
       "</div>"
      ],
      "text/plain": [
       "        State Counts Code\n",
       "0     Alabama      7   AL\n",
       "1      Alaska      0   AK\n",
       "2     Arizona      0   AZ\n",
       "3    Arkansas      2   AR\n",
       "4  California     11   CA"
      ]
     },
     "execution_count": 3,
     "metadata": {},
     "output_type": "execute_result"
    }
   ],
   "source": [
    "# Adding state abbreviations to data frame\n",
    "\n",
    "us_state_abbrev = {\n",
    "    'Alabama': 'AL',\n",
    "    'Alaska': 'AK',\n",
    "    'Arizona': 'AZ',\n",
    "    'Arkansas': 'AR',\n",
    "    'California': 'CA',\n",
    "    'Colorado': 'CO',\n",
    "    'Connecticut': 'CT',\n",
    "    'Delaware': 'DE',\n",
    "    'District of Columbia': 'DC',\n",
    "    'Florida': 'FL',\n",
    "    'Georgia': 'GA',\n",
    "    'Hawaii': 'HI',\n",
    "    'Idaho': 'ID',\n",
    "    'Illinois': 'IL',\n",
    "    'Indiana': 'IN',\n",
    "    'Iowa': 'IA',\n",
    "    'Kansas': 'KS',\n",
    "    'Kentucky': 'KY',\n",
    "    'Louisiana': 'LA',\n",
    "    'Maine': 'ME',\n",
    "    'Maryland': 'MD',\n",
    "    'Massachusetts': 'MA',\n",
    "    'Michigan': 'MI',\n",
    "    'Minnesota': 'MN',\n",
    "    'Mississippi': 'MS',\n",
    "    'Missouri': 'MO',\n",
    "    'Montana': 'MT',\n",
    "    'Nebraska': 'NE',\n",
    "    'Nevada': 'NV',\n",
    "    'New Hampshire': 'NH',\n",
    "    'New Jersey': 'NJ',\n",
    "    'New Mexico': 'NM',\n",
    "    'New York': 'NY',\n",
    "    'North Carolina': 'NC',\n",
    "    'North Dakota': 'ND',\n",
    "    'Ohio': 'OH',\n",
    "    'Oklahoma': 'OK',\n",
    "    'Oregon': 'OR',\n",
    "    'Pennsylvania': 'PA',\n",
    "    'Rhode Island': 'RI',\n",
    "    'South Carolina': 'SC',\n",
    "    'South Dakota': 'SD',\n",
    "    'Tennessee': 'TN',\n",
    "    'Texas': 'TX',\n",
    "    'Utah': 'UT',\n",
    "    'Vermont': 'VT',\n",
    "    'Virginia': 'VA',\n",
    "    'Washington': 'WA',\n",
    "    'West Virginia': 'WV',\n",
    "    'Wisconsin': 'WI',\n",
    "    'Wyoming': 'WY',\n",
    "}\n",
    "\n",
    "state_shootings_2018_ytd['Code'] = ''\n",
    "\n",
    "for i in range(0,len(state_shootings_2018_ytd)):\n",
    "    state_shootings_2018_ytd['Code'][i] = us_state_abbrev.get(state_shootings_2018_ytd['State'][i])\n",
    "\n",
    "state_shootings_2018_ytd.head()"
   ]
  },
  {
   "cell_type": "code",
   "execution_count": 4,
   "metadata": {},
   "outputs": [
    {
     "data": {
      "application/vnd.plotly.v1+json": {
       "data": [
        {
         "autocolorscale": false,
         "colorbar": {
          "title": "No. Shooting Incidents"
         },
         "colorscale": [
          [
           0,
           "rgb(254,240,217)"
          ],
          [
           0.2,
           "rgb(253,212,158)"
          ],
          [
           0.4,
           "rgb(253,187,132)"
          ],
          [
           0.6,
           "rgb(252,141,89)"
          ],
          [
           0.8,
           "rgb(227,74,51)"
          ],
          [
           1,
           "rgb(179,0,0)"
          ]
         ],
         "locationmode": "USA-states",
         "locations": [
          "AL",
          "AK",
          "AZ",
          "AR",
          "CA",
          "CO",
          "CT",
          "DE",
          "DC",
          "FL",
          "GA",
          "HI",
          "ID",
          "IL",
          "IN",
          "IA",
          "KS",
          "KY",
          "LA",
          "ME",
          "MD",
          "MA",
          "MI",
          "MN",
          "MS",
          "MO",
          "MT",
          "NE",
          "NV",
          "NH",
          "NJ",
          "NM",
          "NY",
          "NC",
          "ND",
          "OH",
          "OK",
          "OR",
          "PA",
          "RI",
          "SC",
          "SD",
          "TN",
          "TX",
          "UT",
          "VT",
          "VA",
          "WA",
          "WV",
          "WI",
          "WY"
         ],
         "marker": {
          "line": {
           "color": "rgb(255,255,255)",
           "width": 2
          }
         },
         "type": "choropleth",
         "z": [
          7,
          0,
          0,
          2,
          11,
          3,
          1,
          0,
          3,
          15,
          2,
          0,
          0,
          12,
          4,
          0,
          1,
          4,
          6,
          0,
          1,
          1,
          5,
          1,
          3,
          5,
          0,
          3,
          0,
          0,
          4,
          0,
          5,
          8,
          0,
          2,
          3,
          0,
          6,
          0,
          2,
          0,
          5,
          6,
          1,
          0,
          1,
          1,
          0,
          0,
          0
         ]
        }
       ],
       "layout": {
        "geo": {
         "lakecolor": "rgb(255,255,255)",
         "projection": {
          "type": "albers usa"
         },
         "scope": "usa",
         "showlakes": true
        },
        "title": "2018 Year-To-Date Shootings By State"
       }
      },
      "text/html": [
       "<div id=\"b0dc6c58-c699-4c7c-9ecf-69705f2888d4\" style=\"height: 525px; width: 100%;\" class=\"plotly-graph-div\"></div><script type=\"text/javascript\">require([\"plotly\"], function(Plotly) { window.PLOTLYENV=window.PLOTLYENV || {};window.PLOTLYENV.BASE_URL=\"https://plot.ly\";Plotly.newPlot(\"b0dc6c58-c699-4c7c-9ecf-69705f2888d4\", [{\"autocolorscale\": false, \"colorscale\": [[0.0, \"rgb(254,240,217)\"], [0.2, \"rgb(253,212,158)\"], [0.4, \"rgb(253,187,132)\"], [0.6, \"rgb(252,141,89)\"], [0.8, \"rgb(227,74,51)\"], [1.0, \"rgb(179,0,0)\"]], \"type\": \"choropleth\", \"locations\": [\"AL\", \"AK\", \"AZ\", \"AR\", \"CA\", \"CO\", \"CT\", \"DE\", \"DC\", \"FL\", \"GA\", \"HI\", \"ID\", \"IL\", \"IN\", \"IA\", \"KS\", \"KY\", \"LA\", \"ME\", \"MD\", \"MA\", \"MI\", \"MN\", \"MS\", \"MO\", \"MT\", \"NE\", \"NV\", \"NH\", \"NJ\", \"NM\", \"NY\", \"NC\", \"ND\", \"OH\", \"OK\", \"OR\", \"PA\", \"RI\", \"SC\", \"SD\", \"TN\", \"TX\", \"UT\", \"VT\", \"VA\", \"WA\", \"WV\", \"WI\", \"WY\"], \"colorbar\": {\"title\": \"No. Shooting Incidents\"}, \"marker\": {\"line\": {\"color\": \"rgb(255,255,255)\", \"width\": 2}}, \"z\": [7.0, 0.0, 0.0, 2.0, 11.0, 3.0, 1.0, 0.0, 3.0, 15.0, 2.0, 0.0, 0.0, 12.0, 4.0, 0.0, 1.0, 4.0, 6.0, 0.0, 1.0, 1.0, 5.0, 1.0, 3.0, 5.0, 0.0, 3.0, 0.0, 0.0, 4.0, 0.0, 5.0, 8.0, 0.0, 2.0, 3.0, 0.0, 6.0, 0.0, 2.0, 0.0, 5.0, 6.0, 1.0, 0.0, 1.0, 1.0, 0.0, 0.0, 0.0], \"locationmode\": \"USA-states\"}], {\"geo\": {\"showlakes\": true, \"scope\": \"usa\", \"projection\": {\"type\": \"albers usa\"}, \"lakecolor\": \"rgb(255,255,255)\"}, \"title\": \"2018 Year-To-Date Shootings By State\"}, {\"linkText\": \"Export to plot.ly\", \"showLink\": true})});</script>"
      ],
      "text/vnd.plotly.v1+html": [
       "<div id=\"b0dc6c58-c699-4c7c-9ecf-69705f2888d4\" style=\"height: 525px; width: 100%;\" class=\"plotly-graph-div\"></div><script type=\"text/javascript\">require([\"plotly\"], function(Plotly) { window.PLOTLYENV=window.PLOTLYENV || {};window.PLOTLYENV.BASE_URL=\"https://plot.ly\";Plotly.newPlot(\"b0dc6c58-c699-4c7c-9ecf-69705f2888d4\", [{\"autocolorscale\": false, \"colorscale\": [[0.0, \"rgb(254,240,217)\"], [0.2, \"rgb(253,212,158)\"], [0.4, \"rgb(253,187,132)\"], [0.6, \"rgb(252,141,89)\"], [0.8, \"rgb(227,74,51)\"], [1.0, \"rgb(179,0,0)\"]], \"type\": \"choropleth\", \"locations\": [\"AL\", \"AK\", \"AZ\", \"AR\", \"CA\", \"CO\", \"CT\", \"DE\", \"DC\", \"FL\", \"GA\", \"HI\", \"ID\", \"IL\", \"IN\", \"IA\", \"KS\", \"KY\", \"LA\", \"ME\", \"MD\", \"MA\", \"MI\", \"MN\", \"MS\", \"MO\", \"MT\", \"NE\", \"NV\", \"NH\", \"NJ\", \"NM\", \"NY\", \"NC\", \"ND\", \"OH\", \"OK\", \"OR\", \"PA\", \"RI\", \"SC\", \"SD\", \"TN\", \"TX\", \"UT\", \"VT\", \"VA\", \"WA\", \"WV\", \"WI\", \"WY\"], \"colorbar\": {\"title\": \"No. Shooting Incidents\"}, \"marker\": {\"line\": {\"color\": \"rgb(255,255,255)\", \"width\": 2}}, \"z\": [7.0, 0.0, 0.0, 2.0, 11.0, 3.0, 1.0, 0.0, 3.0, 15.0, 2.0, 0.0, 0.0, 12.0, 4.0, 0.0, 1.0, 4.0, 6.0, 0.0, 1.0, 1.0, 5.0, 1.0, 3.0, 5.0, 0.0, 3.0, 0.0, 0.0, 4.0, 0.0, 5.0, 8.0, 0.0, 2.0, 3.0, 0.0, 6.0, 0.0, 2.0, 0.0, 5.0, 6.0, 1.0, 0.0, 1.0, 1.0, 0.0, 0.0, 0.0], \"locationmode\": \"USA-states\"}], {\"geo\": {\"showlakes\": true, \"scope\": \"usa\", \"projection\": {\"type\": \"albers usa\"}, \"lakecolor\": \"rgb(255,255,255)\"}, \"title\": \"2018 Year-To-Date Shootings By State\"}, {\"linkText\": \"Export to plot.ly\", \"showLink\": true})});</script>"
      ]
     },
     "metadata": {},
     "output_type": "display_data"
    }
   ],
   "source": [
    "# Creating map from data\n",
    "# Custom color scales from http://colorbrewer2.org/#type=sequential&scheme=OrRd&n=6\n",
    "\n",
    "redscale = [[0.0,'rgb(254,240,217)'],[0.2,'rgb(253,212,158)'],[0.4,'rgb(253,187,132)'],[0.6,'rgb(252,141,89)'],[0.8,'rgb(227,74,51)'],[1.0,'rgb(179,0,0)']]\n",
    "\n",
    "data = [ dict(\n",
    "        type = 'choropleth',\n",
    "        colorscale = redscale,\n",
    "        autocolorscale = False,\n",
    "        locations = state_shootings_2018_ytd['Code'],\n",
    "        z = state_shootings_2018_ytd['Counts'].astype(float),\n",
    "        locationmode = 'USA-states',\n",
    "        marker = dict(\n",
    "            line = dict(\n",
    "                color = 'rgb(255,255,255)',\n",
    "                width = 2\n",
    "            )\n",
    "        ),\n",
    "        colorbar = dict(\n",
    "            title = \"No. Shooting Incidents\")\n",
    "        ) ]\n",
    "\n",
    "layout = dict(\n",
    "        title = \"2018 Year-To-Date Shootings By State\",\n",
    "        geo = dict(\n",
    "            scope = 'usa',\n",
    "            projection = dict(type = 'albers usa'),\n",
    "            showlakes = True,\n",
    "            lakecolor = 'rgb(255,255,255)'\n",
    "            )\n",
    "        )\n",
    "\n",
    "map = go.Figure(data = data, layout = layout)\n",
    "\n",
    "iplot(map)\n",
    "\n",
    "#offline.iplot(map, image='png')"
   ]
  },
  {
   "cell_type": "code",
   "execution_count": null,
   "metadata": {},
   "outputs": [],
   "source": []
  }
 ],
 "metadata": {
  "kernelspec": {
   "display_name": "Python 2",
   "language": "python",
   "name": "python2"
  },
  "language_info": {
   "codemirror_mode": {
    "name": "ipython",
    "version": 2
   },
   "file_extension": ".py",
   "mimetype": "text/x-python",
   "name": "python",
   "nbconvert_exporter": "python",
   "pygments_lexer": "ipython2",
   "version": "2.7.15"
  }
 },
 "nbformat": 4,
 "nbformat_minor": 2
}
